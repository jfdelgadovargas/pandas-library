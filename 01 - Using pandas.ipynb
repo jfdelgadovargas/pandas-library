{
 "cells": [
  {
   "cell_type": "markdown",
   "metadata": {},
   "source": [
    "## How to manage data with pandas library"
   ]
  },
  {
   "cell_type": "markdown",
   "metadata": {},
   "source": [
    "### Reading information from a csv file"
   ]
  },
  {
   "cell_type": "markdown",
   "metadata": {},
   "source": [
    "In this example I want to show you how to use ***pandas library*** to read data from an external resource as a **csv** file.\n",
    "For this example we are going to read a file with the information about different apartament offers in Cali city (name, area, address, price, etc).\n"
   ]
  },
  {
   "cell_type": "code",
   "execution_count": 57,
   "metadata": {},
   "outputs": [],
   "source": [
    "#Import pandas library\n",
    "import pandas as pd\n",
    "\n",
    "#Define a variable to save our data and read the file using the read_csv function\n",
    "original_data = pd.read_csv(\"./01_apartments_information.csv\")"
   ]
  },
  {
   "cell_type": "markdown",
   "metadata": {},
   "source": [
    "After reading our file with the information we can use the ***shape*** attribute to know about our data file."
   ]
  },
  {
   "cell_type": "code",
   "execution_count": 58,
   "metadata": {
    "scrolled": true
   },
   "outputs": [
    {
     "data": {
      "text/plain": [
       "(1755, 11)"
      ]
     },
     "execution_count": 58,
     "metadata": {},
     "output_type": "execute_result"
    }
   ],
   "source": [
    "original_data.shape"
   ]
  },
  {
   "cell_type": "markdown",
   "metadata": {},
   "source": [
    "We saw that our file has information about **1755** records and **11** columns. Now we can examine the content of our DataFrame using the **head()** function that can show us by default the first five rows of our data, also we can define as a parameter the number of rows that we want to see ***head(# rows)***"
   ]
  },
  {
   "cell_type": "code",
   "execution_count": 59,
   "metadata": {},
   "outputs": [
    {
     "data": {
      "text/html": [
       "<div>\n",
       "<style scoped>\n",
       "    .dataframe tbody tr th:only-of-type {\n",
       "        vertical-align: middle;\n",
       "    }\n",
       "\n",
       "    .dataframe tbody tr th {\n",
       "        vertical-align: top;\n",
       "    }\n",
       "\n",
       "    .dataframe thead th {\n",
       "        text-align: right;\n",
       "    }\n",
       "</style>\n",
       "<table border=\"1\" class=\"dataframe\">\n",
       "  <thead>\n",
       "    <tr style=\"text-align: right;\">\n",
       "      <th></th>\n",
       "      <th>Project</th>\n",
       "      <th>Seller</th>\n",
       "      <th>Address</th>\n",
       "      <th>Type</th>\n",
       "      <th>Zone</th>\n",
       "      <th>Bedrooms</th>\n",
       "      <th># Gar.</th>\n",
       "      <th>Area</th>\n",
       "      <th>Sub Zone</th>\n",
       "      <th>Floor</th>\n",
       "      <th>Price 2013</th>\n",
       "    </tr>\n",
       "  </thead>\n",
       "  <tbody>\n",
       "    <tr>\n",
       "      <td>0</td>\n",
       "      <td>Ed. Rincón del Bosque</td>\n",
       "      <td>Inv. CIMAR</td>\n",
       "      <td>AV. 10 N # 51N-36</td>\n",
       "      <td>Apto.</td>\n",
       "      <td>Norte</td>\n",
       "      <td>1</td>\n",
       "      <td>0</td>\n",
       "      <td>20.0</td>\n",
       "      <td>La Flora</td>\n",
       "      <td>101</td>\n",
       "      <td>28,000,000</td>\n",
       "    </tr>\n",
       "    <tr>\n",
       "      <td>1</td>\n",
       "      <td>Vertice Suites - Apartaestudios</td>\n",
       "      <td>C Y C Urbanizadores</td>\n",
       "      <td>Cr. 83E Cl. 48 Bis</td>\n",
       "      <td>Apto.</td>\n",
       "      <td>Sur</td>\n",
       "      <td>1</td>\n",
       "      <td>0</td>\n",
       "      <td>28.0</td>\n",
       "      <td>Caney</td>\n",
       "      <td>303</td>\n",
       "      <td>42,500,000</td>\n",
       "    </tr>\n",
       "    <tr>\n",
       "      <td>2</td>\n",
       "      <td>Trikala</td>\n",
       "      <td>Const. Sintagma</td>\n",
       "      <td>Cr. 49 # 14C-15</td>\n",
       "      <td>Apto.</td>\n",
       "      <td>Sur</td>\n",
       "      <td>2</td>\n",
       "      <td>2 a1</td>\n",
       "      <td>29.0</td>\n",
       "      <td>Ingenio</td>\n",
       "      <td>301</td>\n",
       "      <td>41,300,000</td>\n",
       "    </tr>\n",
       "    <tr>\n",
       "      <td>3</td>\n",
       "      <td>Edificio Camp. Towers</td>\n",
       "      <td>Hérnandez Bohmer</td>\n",
       "      <td>Cr. 100 Cl. 11A</td>\n",
       "      <td>Apto.</td>\n",
       "      <td>Sur</td>\n",
       "      <td>1</td>\n",
       "      <td>0</td>\n",
       "      <td>29.0</td>\n",
       "      <td>Ciudad Jardín</td>\n",
       "      <td>7</td>\n",
       "      <td>53,753,490</td>\n",
       "    </tr>\n",
       "    <tr>\n",
       "      <td>4</td>\n",
       "      <td>Vertice Suites - Apartaestudios</td>\n",
       "      <td>C Y C Urbanizadores</td>\n",
       "      <td>Cr. 83E Cl. 48 Bis</td>\n",
       "      <td>Apto.</td>\n",
       "      <td>Sur</td>\n",
       "      <td>1</td>\n",
       "      <td>0</td>\n",
       "      <td>29.0</td>\n",
       "      <td>Caney</td>\n",
       "      <td>309</td>\n",
       "      <td>48,500,000</td>\n",
       "    </tr>\n",
       "  </tbody>\n",
       "</table>\n",
       "</div>"
      ],
      "text/plain": [
       "                           Project               Seller             Address  \\\n",
       "0            Ed. Rincón del Bosque           Inv. CIMAR   AV. 10 N # 51N-36   \n",
       "1  Vertice Suites - Apartaestudios  C Y C Urbanizadores  Cr. 83E Cl. 48 Bis   \n",
       "2                          Trikala      Const. Sintagma     Cr. 49 # 14C-15   \n",
       "3            Edificio Camp. Towers     Hérnandez Bohmer     Cr. 100 Cl. 11A   \n",
       "4  Vertice Suites - Apartaestudios  C Y C Urbanizadores  Cr. 83E Cl. 48 Bis   \n",
       "\n",
       "    Type   Zone  Bedrooms # Gar.  Area       Sub Zone Floor  Price 2013  \n",
       "0  Apto.  Norte         1      0  20.0       La Flora   101  28,000,000  \n",
       "1  Apto.    Sur         1      0  28.0          Caney   303  42,500,000  \n",
       "2  Apto.    Sur         2   2 a1  29.0        Ingenio   301  41,300,000  \n",
       "3  Apto.    Sur         1      0  29.0  Ciudad Jardín     7  53,753,490  \n",
       "4  Apto.    Sur         1      0  29.0          Caney   309  48,500,000  "
      ]
     },
     "execution_count": 59,
     "metadata": {},
     "output_type": "execute_result"
    }
   ],
   "source": [
    "original_data.head()"
   ]
  },
  {
   "cell_type": "markdown",
   "metadata": {},
   "source": [
    "As we can see in our data set, pandas created a column with a index, also we can make that pandas use this column for the index with the **index_col** parameter:"
   ]
  },
  {
   "cell_type": "code",
   "execution_count": 60,
   "metadata": {},
   "outputs": [
    {
     "data": {
      "text/html": [
       "<div>\n",
       "<style scoped>\n",
       "    .dataframe tbody tr th:only-of-type {\n",
       "        vertical-align: middle;\n",
       "    }\n",
       "\n",
       "    .dataframe tbody tr th {\n",
       "        vertical-align: top;\n",
       "    }\n",
       "\n",
       "    .dataframe thead th {\n",
       "        text-align: right;\n",
       "    }\n",
       "</style>\n",
       "<table border=\"1\" class=\"dataframe\">\n",
       "  <thead>\n",
       "    <tr style=\"text-align: right;\">\n",
       "      <th></th>\n",
       "      <th>Project</th>\n",
       "      <th>Seller</th>\n",
       "      <th>Address</th>\n",
       "      <th>Type</th>\n",
       "      <th>Zone</th>\n",
       "      <th>Bedrooms</th>\n",
       "      <th># Gar.</th>\n",
       "      <th>Area</th>\n",
       "      <th>Sub Zone</th>\n",
       "      <th>Floor</th>\n",
       "      <th>Price 2013</th>\n",
       "    </tr>\n",
       "  </thead>\n",
       "  <tbody>\n",
       "    <tr>\n",
       "      <td>0</td>\n",
       "      <td>Ed. Rincón del Bosque</td>\n",
       "      <td>Inv. CIMAR</td>\n",
       "      <td>AV. 10 N # 51N-36</td>\n",
       "      <td>Apto.</td>\n",
       "      <td>Norte</td>\n",
       "      <td>1</td>\n",
       "      <td>0</td>\n",
       "      <td>20.0</td>\n",
       "      <td>La Flora</td>\n",
       "      <td>101</td>\n",
       "      <td>28,000,000</td>\n",
       "    </tr>\n",
       "    <tr>\n",
       "      <td>1</td>\n",
       "      <td>Vertice Suites - Apartaestudios</td>\n",
       "      <td>C Y C Urbanizadores</td>\n",
       "      <td>Cr. 83E Cl. 48 Bis</td>\n",
       "      <td>Apto.</td>\n",
       "      <td>Sur</td>\n",
       "      <td>1</td>\n",
       "      <td>0</td>\n",
       "      <td>28.0</td>\n",
       "      <td>Caney</td>\n",
       "      <td>303</td>\n",
       "      <td>42,500,000</td>\n",
       "    </tr>\n",
       "    <tr>\n",
       "      <td>2</td>\n",
       "      <td>Trikala</td>\n",
       "      <td>Const. Sintagma</td>\n",
       "      <td>Cr. 49 # 14C-15</td>\n",
       "      <td>Apto.</td>\n",
       "      <td>Sur</td>\n",
       "      <td>2</td>\n",
       "      <td>2 a1</td>\n",
       "      <td>29.0</td>\n",
       "      <td>Ingenio</td>\n",
       "      <td>301</td>\n",
       "      <td>41,300,000</td>\n",
       "    </tr>\n",
       "    <tr>\n",
       "      <td>3</td>\n",
       "      <td>Edificio Camp. Towers</td>\n",
       "      <td>Hérnandez Bohmer</td>\n",
       "      <td>Cr. 100 Cl. 11A</td>\n",
       "      <td>Apto.</td>\n",
       "      <td>Sur</td>\n",
       "      <td>1</td>\n",
       "      <td>0</td>\n",
       "      <td>29.0</td>\n",
       "      <td>Ciudad Jardín</td>\n",
       "      <td>7</td>\n",
       "      <td>53,753,490</td>\n",
       "    </tr>\n",
       "    <tr>\n",
       "      <td>4</td>\n",
       "      <td>Vertice Suites - Apartaestudios</td>\n",
       "      <td>C Y C Urbanizadores</td>\n",
       "      <td>Cr. 83E Cl. 48 Bis</td>\n",
       "      <td>Apto.</td>\n",
       "      <td>Sur</td>\n",
       "      <td>1</td>\n",
       "      <td>0</td>\n",
       "      <td>29.0</td>\n",
       "      <td>Caney</td>\n",
       "      <td>309</td>\n",
       "      <td>48,500,000</td>\n",
       "    </tr>\n",
       "  </tbody>\n",
       "</table>\n",
       "</div>"
      ],
      "text/plain": [
       "                           Project               Seller             Address  \\\n",
       "0            Ed. Rincón del Bosque           Inv. CIMAR   AV. 10 N # 51N-36   \n",
       "1  Vertice Suites - Apartaestudios  C Y C Urbanizadores  Cr. 83E Cl. 48 Bis   \n",
       "2                          Trikala      Const. Sintagma     Cr. 49 # 14C-15   \n",
       "3            Edificio Camp. Towers     Hérnandez Bohmer     Cr. 100 Cl. 11A   \n",
       "4  Vertice Suites - Apartaestudios  C Y C Urbanizadores  Cr. 83E Cl. 48 Bis   \n",
       "\n",
       "    Type   Zone  Bedrooms # Gar.  Area       Sub Zone Floor  Price 2013  \n",
       "0  Apto.  Norte         1      0  20.0       La Flora   101  28,000,000  \n",
       "1  Apto.    Sur         1      0  28.0          Caney   303  42,500,000  \n",
       "2  Apto.    Sur         2   2 a1  29.0        Ingenio   301  41,300,000  \n",
       "3  Apto.    Sur         1      0  29.0  Ciudad Jardín     7  53,753,490  \n",
       "4  Apto.    Sur         1      0  29.0          Caney   309  48,500,000  "
      ]
     },
     "execution_count": 60,
     "metadata": {},
     "output_type": "execute_result"
    }
   ],
   "source": [
    "original_data = pd.read_csv(\"./01_apartments_information.csv\", index_col = False)\n",
    "original_data.head()"
   ]
  },
  {
   "cell_type": "markdown",
   "metadata": {},
   "source": [
    "### Selecting data"
   ]
  },
  {
   "cell_type": "markdown",
   "metadata": {},
   "source": [
    "We can consider our data file as a DataFrame, then to make some data operations over it, we can use the commands given by pandas library to access for example to an attribute using the follow syntaxis:"
   ]
  },
  {
   "cell_type": "code",
   "execution_count": 61,
   "metadata": {},
   "outputs": [
    {
     "data": {
      "text/plain": [
       "0                 Ed. Rincón del Bosque\n",
       "1       Vertice Suites - Apartaestudios\n",
       "2                               Trikala\n",
       "3                 Edificio Camp. Towers\n",
       "4       Vertice Suites - Apartaestudios\n",
       "                     ...               \n",
       "1750                   Atelier Edificio\n",
       "1751              Riberas del Aguacatal\n",
       "1752            Rincon del Camp. Ed. IV\n",
       "1753                 Arboleda Reservado\n",
       "1754                Parque de Normandia\n",
       "Name: Project, Length: 1755, dtype: object"
      ]
     },
     "execution_count": 61,
     "metadata": {},
     "output_type": "execute_result"
    }
   ],
   "source": [
    "original_data[\"Project\"]"
   ]
  },
  {
   "cell_type": "markdown",
   "metadata": {},
   "source": [
    "The previous way to access an attribute is an esay way to read information, however pandas provides two operator that we can use to an advance seletcion. They are the ***loc*** and the ***iloc*** commands."
   ]
  },
  {
   "cell_type": "markdown",
   "metadata": {},
   "source": [
    "### Index-based selection"
   ]
  },
  {
   "cell_type": "markdown",
   "metadata": {},
   "source": [
    "pandas works with two paradigms: The first is selecting data based on its numerical position in the data (index-based selection). We can use **iloc** command to work in this way.\n",
    "\n",
    "For instance, to select the first row of data in our dataset we can do the following:"
   ]
  },
  {
   "cell_type": "code",
   "execution_count": 62,
   "metadata": {},
   "outputs": [
    {
     "data": {
      "text/plain": [
       "Project       Ed. Rincón del Bosque\n",
       "Seller                   Inv. CIMAR\n",
       "Address           AV. 10 N # 51N-36\n",
       "Type                          Apto.\n",
       "Zone                          Norte\n",
       "Bedrooms                          1\n",
       "# Gar.                            0\n",
       "Area                             20\n",
       "Sub Zone                   La Flora\n",
       "Floor                           101\n",
       "Price 2013               28,000,000\n",
       "Name: 0, dtype: object"
      ]
     },
     "execution_count": 62,
     "metadata": {},
     "output_type": "execute_result"
    }
   ],
   "source": [
    "original_data.iloc[0]"
   ]
  },
  {
   "cell_type": "markdown",
   "metadata": {},
   "source": [
    "If we want to get a column with **iloc** we can do the following:"
   ]
  },
  {
   "cell_type": "code",
   "execution_count": 63,
   "metadata": {},
   "outputs": [
    {
     "data": {
      "text/plain": [
       "0                 Ed. Rincón del Bosque\n",
       "1       Vertice Suites - Apartaestudios\n",
       "2                               Trikala\n",
       "3                 Edificio Camp. Towers\n",
       "4       Vertice Suites - Apartaestudios\n",
       "                     ...               \n",
       "1750                   Atelier Edificio\n",
       "1751              Riberas del Aguacatal\n",
       "1752            Rincon del Camp. Ed. IV\n",
       "1753                 Arboleda Reservado\n",
       "1754                Parque de Normandia\n",
       "Name: Project, Length: 1755, dtype: object"
      ]
     },
     "execution_count": 63,
     "metadata": {},
     "output_type": "execute_result"
    }
   ],
   "source": [
    "original_data.iloc[:, 0]"
   ]
  },
  {
   "cell_type": "markdown",
   "metadata": {},
   "source": [
    "Also we can combine it with other selectors for example, to select the ***project*** name for the first, second and third row we can indicate a range o value like the following:"
   ]
  },
  {
   "cell_type": "code",
   "execution_count": 64,
   "metadata": {},
   "outputs": [
    {
     "data": {
      "text/plain": [
       "0              Ed. Rincón del Bosque\n",
       "1    Vertice Suites - Apartaestudios\n",
       "2                            Trikala\n",
       "Name: Project, dtype: object"
      ]
     },
     "execution_count": 64,
     "metadata": {},
     "output_type": "execute_result"
    }
   ],
   "source": [
    "original_data.iloc[:3,0]"
   ]
  },
  {
   "cell_type": "markdown",
   "metadata": {},
   "source": [
    "Also we can insert a list of numbers to indicate the rows that we want to retrieve:"
   ]
  },
  {
   "cell_type": "code",
   "execution_count": 65,
   "metadata": {},
   "outputs": [
    {
     "data": {
      "text/plain": [
       "0              Ed. Rincón del Bosque\n",
       "1    Vertice Suites - Apartaestudios\n",
       "2                            Trikala\n",
       "Name: Project, dtype: object"
      ]
     },
     "execution_count": 65,
     "metadata": {},
     "output_type": "execute_result"
    }
   ],
   "source": [
    "original_data.iloc[[0,1,2], 0]"
   ]
  },
  {
   "cell_type": "markdown",
   "metadata": {},
   "source": [
    "It is important to know that we can use negative values to retrieve information starting by the end of the dataset. For example if we want to select the last six projects and their information we can do the following:"
   ]
  },
  {
   "cell_type": "code",
   "execution_count": 66,
   "metadata": {},
   "outputs": [
    {
     "data": {
      "text/html": [
       "<div>\n",
       "<style scoped>\n",
       "    .dataframe tbody tr th:only-of-type {\n",
       "        vertical-align: middle;\n",
       "    }\n",
       "\n",
       "    .dataframe tbody tr th {\n",
       "        vertical-align: top;\n",
       "    }\n",
       "\n",
       "    .dataframe thead th {\n",
       "        text-align: right;\n",
       "    }\n",
       "</style>\n",
       "<table border=\"1\" class=\"dataframe\">\n",
       "  <thead>\n",
       "    <tr style=\"text-align: right;\">\n",
       "      <th></th>\n",
       "      <th>Project</th>\n",
       "      <th>Seller</th>\n",
       "      <th>Address</th>\n",
       "      <th>Type</th>\n",
       "      <th>Zone</th>\n",
       "      <th>Bedrooms</th>\n",
       "      <th># Gar.</th>\n",
       "      <th>Area</th>\n",
       "      <th>Sub Zone</th>\n",
       "      <th>Floor</th>\n",
       "      <th>Price 2013</th>\n",
       "    </tr>\n",
       "  </thead>\n",
       "  <tbody>\n",
       "    <tr>\n",
       "      <td>1749</td>\n",
       "      <td>Arboleda Reservado</td>\n",
       "      <td>Skema</td>\n",
       "      <td>Cr. 3 Oeste # 7-87</td>\n",
       "      <td>Apto.</td>\n",
       "      <td>Oeste</td>\n",
       "      <td>4</td>\n",
       "      <td>4</td>\n",
       "      <td>460.0</td>\n",
       "      <td>Santa Teresita</td>\n",
       "      <td>401</td>\n",
       "      <td>1,736,000,000</td>\n",
       "    </tr>\n",
       "    <tr>\n",
       "      <td>1750</td>\n",
       "      <td>Atelier Edificio</td>\n",
       "      <td>JM Inm.</td>\n",
       "      <td>Av. 10A Nte. # 7-64</td>\n",
       "      <td>Apto.</td>\n",
       "      <td>Oeste</td>\n",
       "      <td>4</td>\n",
       "      <td>4</td>\n",
       "      <td>468.0</td>\n",
       "      <td>Sta Monica Nte</td>\n",
       "      <td>Ph8</td>\n",
       "      <td>1,032,330,000</td>\n",
       "    </tr>\n",
       "    <tr>\n",
       "      <td>1751</td>\n",
       "      <td>Riberas del Aguacatal</td>\n",
       "      <td>Socorro Escobar</td>\n",
       "      <td>Av. Aguacatal Cl. 1 Oeste</td>\n",
       "      <td>Apto.</td>\n",
       "      <td>Oeste</td>\n",
       "      <td>4</td>\n",
       "      <td>2</td>\n",
       "      <td>514.0</td>\n",
       "      <td>Aguacatal</td>\n",
       "      <td>6</td>\n",
       "      <td>1,040,000,000</td>\n",
       "    </tr>\n",
       "    <tr>\n",
       "      <td>1752</td>\n",
       "      <td>Rincon del Camp. Ed. IV</td>\n",
       "      <td>Const. Melendez</td>\n",
       "      <td>Cr. 98 Cl. 5</td>\n",
       "      <td>Apto.</td>\n",
       "      <td>Sur</td>\n",
       "      <td>4</td>\n",
       "      <td>3</td>\n",
       "      <td>517.0</td>\n",
       "      <td>Ciudad Jardín</td>\n",
       "      <td>Dp1302</td>\n",
       "      <td>1,872,996,000</td>\n",
       "    </tr>\n",
       "    <tr>\n",
       "      <td>1753</td>\n",
       "      <td>Arboleda Reservado</td>\n",
       "      <td>Skema</td>\n",
       "      <td>Cr. 3 Oeste # 7-87</td>\n",
       "      <td>Apto.</td>\n",
       "      <td>Oeste</td>\n",
       "      <td>4</td>\n",
       "      <td>5</td>\n",
       "      <td>575.0</td>\n",
       "      <td>Santa Teresita</td>\n",
       "      <td>102</td>\n",
       "      <td>2,300,000,000</td>\n",
       "    </tr>\n",
       "    <tr>\n",
       "      <td>1754</td>\n",
       "      <td>Parque de Normandia</td>\n",
       "      <td>Socorro Escobar</td>\n",
       "      <td>Av. 6 Oeste # 5-170</td>\n",
       "      <td>Apto.</td>\n",
       "      <td>Oeste</td>\n",
       "      <td>4</td>\n",
       "      <td>4</td>\n",
       "      <td>646.0</td>\n",
       "      <td>Aguacatal</td>\n",
       "      <td>1</td>\n",
       "      <td>1,500,000,000</td>\n",
       "    </tr>\n",
       "  </tbody>\n",
       "</table>\n",
       "</div>"
      ],
      "text/plain": [
       "                      Project           Seller                    Address  \\\n",
       "1749       Arboleda Reservado            Skema         Cr. 3 Oeste # 7-87   \n",
       "1750         Atelier Edificio          JM Inm.        Av. 10A Nte. # 7-64   \n",
       "1751    Riberas del Aguacatal  Socorro Escobar  Av. Aguacatal Cl. 1 Oeste   \n",
       "1752  Rincon del Camp. Ed. IV  Const. Melendez               Cr. 98 Cl. 5   \n",
       "1753       Arboleda Reservado            Skema         Cr. 3 Oeste # 7-87   \n",
       "1754      Parque de Normandia  Socorro Escobar        Av. 6 Oeste # 5-170   \n",
       "\n",
       "       Type   Zone  Bedrooms # Gar.   Area        Sub Zone   Floor  \\\n",
       "1749  Apto.  Oeste         4      4  460.0  Santa Teresita     401   \n",
       "1750  Apto.  Oeste         4      4  468.0  Sta Monica Nte     Ph8   \n",
       "1751  Apto.  Oeste         4      2  514.0       Aguacatal       6   \n",
       "1752  Apto.    Sur         4      3  517.0   Ciudad Jardín  Dp1302   \n",
       "1753  Apto.  Oeste         4      5  575.0  Santa Teresita     102   \n",
       "1754  Apto.  Oeste         4      4  646.0       Aguacatal       1   \n",
       "\n",
       "         Price 2013  \n",
       "1749  1,736,000,000  \n",
       "1750  1,032,330,000  \n",
       "1751  1,040,000,000  \n",
       "1752  1,872,996,000  \n",
       "1753  2,300,000,000  \n",
       "1754  1,500,000,000  "
      ]
     },
     "execution_count": 66,
     "metadata": {},
     "output_type": "execute_result"
    }
   ],
   "source": [
    "original_data.iloc[-6:]"
   ]
  }
 ],
 "metadata": {
  "kernelspec": {
   "display_name": "Python 3",
   "language": "python",
   "name": "python3"
  },
  "language_info": {
   "codemirror_mode": {
    "name": "ipython",
    "version": 3
   },
   "file_extension": ".py",
   "mimetype": "text/x-python",
   "name": "python",
   "nbconvert_exporter": "python",
   "pygments_lexer": "ipython3",
   "version": "3.7.4"
  }
 },
 "nbformat": 4,
 "nbformat_minor": 2
}
