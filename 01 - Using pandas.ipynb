{
 "cells": [
  {
   "cell_type": "markdown",
   "metadata": {},
   "source": [
    "## How to manage data with pandas library"
   ]
  },
  {
   "cell_type": "markdown",
   "metadata": {},
   "source": [
    "### Reading information froma csv file"
   ]
  },
  {
   "cell_type": "markdown",
   "metadata": {},
   "source": [
    "In this example I want to show you how to use ***pandas library*** to read data from an external resource as a **csv** file.\n",
    "For this example we are going to read a file with the information about different apartament offers in Cali city (name, area, address, price, etc).\n"
   ]
  },
  {
   "cell_type": "code",
   "execution_count": 23,
   "metadata": {},
   "outputs": [],
   "source": [
    "#Import pandas library\n",
    "import pandas as pd\n",
    "\n",
    "#Define a variable to save our data and read the file using the read_csv function\n",
    "original_data = pd.read_csv(\"./01_apartments_information.csv\")"
   ]
  },
  {
   "cell_type": "markdown",
   "metadata": {},
   "source": [
    "After reading our file with the information we can use the ***shape*** attribute to know about our data file."
   ]
  },
  {
   "cell_type": "code",
   "execution_count": 16,
   "metadata": {
    "scrolled": true
   },
   "outputs": [
    {
     "data": {
      "text/plain": [
       "(1755, 11)"
      ]
     },
     "execution_count": 16,
     "metadata": {},
     "output_type": "execute_result"
    }
   ],
   "source": [
    "original_data.shape"
   ]
  },
  {
   "cell_type": "markdown",
   "metadata": {},
   "source": [
    "We saw that our file has information about **1755** records and **11** columns. Now we can examine the content of our DataFrame using the **head()** function that can show us by default the first five rows of our data, also we can define as a parameter the number of rows that we want to see ***head(# rows)***"
   ]
  },
  {
   "cell_type": "code",
   "execution_count": 21,
   "metadata": {},
   "outputs": [
    {
     "data": {
      "text/html": [
       "<div>\n",
       "<style scoped>\n",
       "    .dataframe tbody tr th:only-of-type {\n",
       "        vertical-align: middle;\n",
       "    }\n",
       "\n",
       "    .dataframe tbody tr th {\n",
       "        vertical-align: top;\n",
       "    }\n",
       "\n",
       "    .dataframe thead th {\n",
       "        text-align: right;\n",
       "    }\n",
       "</style>\n",
       "<table border=\"1\" class=\"dataframe\">\n",
       "  <thead>\n",
       "    <tr style=\"text-align: right;\">\n",
       "      <th></th>\n",
       "      <th>Proyecto</th>\n",
       "      <th>Vende</th>\n",
       "      <th>Dirección</th>\n",
       "      <th>Tipo</th>\n",
       "      <th>Zona</th>\n",
       "      <th>Alc.</th>\n",
       "      <th># Gar.</th>\n",
       "      <th>Area</th>\n",
       "      <th>Sub Zona</th>\n",
       "      <th>Piso</th>\n",
       "      <th>Psep13</th>\n",
       "    </tr>\n",
       "  </thead>\n",
       "  <tbody>\n",
       "    <tr>\n",
       "      <td>0</td>\n",
       "      <td>Ed. Rincón del Bosque</td>\n",
       "      <td>Inv. CIMAR</td>\n",
       "      <td>AV. 10 N # 51N-36</td>\n",
       "      <td>Apto.</td>\n",
       "      <td>Norte</td>\n",
       "      <td>1</td>\n",
       "      <td>0</td>\n",
       "      <td>20.0</td>\n",
       "      <td>La Flora</td>\n",
       "      <td>101</td>\n",
       "      <td>28,000,000</td>\n",
       "    </tr>\n",
       "    <tr>\n",
       "      <td>1</td>\n",
       "      <td>Vertice Suites - Apartaestudios</td>\n",
       "      <td>C Y C Urbanizadores</td>\n",
       "      <td>Cr. 83E Cl. 48 Bis</td>\n",
       "      <td>Apto.</td>\n",
       "      <td>Sur</td>\n",
       "      <td>1</td>\n",
       "      <td>0</td>\n",
       "      <td>28.0</td>\n",
       "      <td>Caney</td>\n",
       "      <td>303</td>\n",
       "      <td>42,500,000</td>\n",
       "    </tr>\n",
       "    <tr>\n",
       "      <td>2</td>\n",
       "      <td>Trikala</td>\n",
       "      <td>Const. Sintagma</td>\n",
       "      <td>Cr. 49 # 14C-15</td>\n",
       "      <td>Apto.</td>\n",
       "      <td>Sur</td>\n",
       "      <td>2</td>\n",
       "      <td>2 a1</td>\n",
       "      <td>29.0</td>\n",
       "      <td>Ingenio</td>\n",
       "      <td>301</td>\n",
       "      <td>41,300,000</td>\n",
       "    </tr>\n",
       "    <tr>\n",
       "      <td>3</td>\n",
       "      <td>Edificio Camp. Towers</td>\n",
       "      <td>Hérnandez Bohmer</td>\n",
       "      <td>Cr. 100 Cl. 11A</td>\n",
       "      <td>Apto.</td>\n",
       "      <td>Sur</td>\n",
       "      <td>1</td>\n",
       "      <td>0</td>\n",
       "      <td>29.0</td>\n",
       "      <td>Ciudad Jardín</td>\n",
       "      <td>7</td>\n",
       "      <td>53,753,490</td>\n",
       "    </tr>\n",
       "    <tr>\n",
       "      <td>4</td>\n",
       "      <td>Vertice Suites - Apartaestudios</td>\n",
       "      <td>C Y C Urbanizadores</td>\n",
       "      <td>Cr. 83E Cl. 48 Bis</td>\n",
       "      <td>Apto.</td>\n",
       "      <td>Sur</td>\n",
       "      <td>1</td>\n",
       "      <td>0</td>\n",
       "      <td>29.0</td>\n",
       "      <td>Caney</td>\n",
       "      <td>309</td>\n",
       "      <td>48,500,000</td>\n",
       "    </tr>\n",
       "  </tbody>\n",
       "</table>\n",
       "</div>"
      ],
      "text/plain": [
       "                          Proyecto                Vende           Dirección  \\\n",
       "0            Ed. Rincón del Bosque           Inv. CIMAR   AV. 10 N # 51N-36   \n",
       "1  Vertice Suites - Apartaestudios  C Y C Urbanizadores  Cr. 83E Cl. 48 Bis   \n",
       "2                          Trikala      Const. Sintagma     Cr. 49 # 14C-15   \n",
       "3            Edificio Camp. Towers     Hérnandez Bohmer     Cr. 100 Cl. 11A   \n",
       "4  Vertice Suites - Apartaestudios  C Y C Urbanizadores  Cr. 83E Cl. 48 Bis   \n",
       "\n",
       "    Tipo   Zona  Alc. # Gar.  Area       Sub Zona Piso      Psep13  \n",
       "0  Apto.  Norte     1      0  20.0       La Flora  101  28,000,000  \n",
       "1  Apto.    Sur     1      0  28.0          Caney  303  42,500,000  \n",
       "2  Apto.    Sur     2   2 a1  29.0        Ingenio  301  41,300,000  \n",
       "3  Apto.    Sur     1      0  29.0  Ciudad Jardín    7  53,753,490  \n",
       "4  Apto.    Sur     1      0  29.0          Caney  309  48,500,000  "
      ]
     },
     "execution_count": 21,
     "metadata": {},
     "output_type": "execute_result"
    }
   ],
   "source": [
    "original_data.head()"
   ]
  },
  {
   "cell_type": "markdown",
   "metadata": {},
   "source": [
    "As we can see in our data set, pandas created a column with a index, now we can make that pandas use this column for the index with the **index_col** parameter:"
   ]
  },
  {
   "cell_type": "code",
   "execution_count": 22,
   "metadata": {},
   "outputs": [
    {
     "data": {
      "text/html": [
       "<div>\n",
       "<style scoped>\n",
       "    .dataframe tbody tr th:only-of-type {\n",
       "        vertical-align: middle;\n",
       "    }\n",
       "\n",
       "    .dataframe tbody tr th {\n",
       "        vertical-align: top;\n",
       "    }\n",
       "\n",
       "    .dataframe thead th {\n",
       "        text-align: right;\n",
       "    }\n",
       "</style>\n",
       "<table border=\"1\" class=\"dataframe\">\n",
       "  <thead>\n",
       "    <tr style=\"text-align: right;\">\n",
       "      <th></th>\n",
       "      <th>Vende</th>\n",
       "      <th>Dirección</th>\n",
       "      <th>Tipo</th>\n",
       "      <th>Zona</th>\n",
       "      <th>Alc.</th>\n",
       "      <th># Gar.</th>\n",
       "      <th>Area</th>\n",
       "      <th>Sub Zona</th>\n",
       "      <th>Piso</th>\n",
       "      <th>Psep13</th>\n",
       "    </tr>\n",
       "    <tr>\n",
       "      <th>Proyecto</th>\n",
       "      <th></th>\n",
       "      <th></th>\n",
       "      <th></th>\n",
       "      <th></th>\n",
       "      <th></th>\n",
       "      <th></th>\n",
       "      <th></th>\n",
       "      <th></th>\n",
       "      <th></th>\n",
       "      <th></th>\n",
       "    </tr>\n",
       "  </thead>\n",
       "  <tbody>\n",
       "    <tr>\n",
       "      <td>Ed. Rincón del Bosque</td>\n",
       "      <td>Inv. CIMAR</td>\n",
       "      <td>AV. 10 N # 51N-36</td>\n",
       "      <td>Apto.</td>\n",
       "      <td>Norte</td>\n",
       "      <td>1</td>\n",
       "      <td>0</td>\n",
       "      <td>20.0</td>\n",
       "      <td>La Flora</td>\n",
       "      <td>101</td>\n",
       "      <td>28,000,000</td>\n",
       "    </tr>\n",
       "    <tr>\n",
       "      <td>Vertice Suites - Apartaestudios</td>\n",
       "      <td>C Y C Urbanizadores</td>\n",
       "      <td>Cr. 83E Cl. 48 Bis</td>\n",
       "      <td>Apto.</td>\n",
       "      <td>Sur</td>\n",
       "      <td>1</td>\n",
       "      <td>0</td>\n",
       "      <td>28.0</td>\n",
       "      <td>Caney</td>\n",
       "      <td>303</td>\n",
       "      <td>42,500,000</td>\n",
       "    </tr>\n",
       "    <tr>\n",
       "      <td>Trikala</td>\n",
       "      <td>Const. Sintagma</td>\n",
       "      <td>Cr. 49 # 14C-15</td>\n",
       "      <td>Apto.</td>\n",
       "      <td>Sur</td>\n",
       "      <td>2</td>\n",
       "      <td>2 a1</td>\n",
       "      <td>29.0</td>\n",
       "      <td>Ingenio</td>\n",
       "      <td>301</td>\n",
       "      <td>41,300,000</td>\n",
       "    </tr>\n",
       "    <tr>\n",
       "      <td>Edificio Camp. Towers</td>\n",
       "      <td>Hérnandez Bohmer</td>\n",
       "      <td>Cr. 100 Cl. 11A</td>\n",
       "      <td>Apto.</td>\n",
       "      <td>Sur</td>\n",
       "      <td>1</td>\n",
       "      <td>0</td>\n",
       "      <td>29.0</td>\n",
       "      <td>Ciudad Jardín</td>\n",
       "      <td>7</td>\n",
       "      <td>53,753,490</td>\n",
       "    </tr>\n",
       "    <tr>\n",
       "      <td>Vertice Suites - Apartaestudios</td>\n",
       "      <td>C Y C Urbanizadores</td>\n",
       "      <td>Cr. 83E Cl. 48 Bis</td>\n",
       "      <td>Apto.</td>\n",
       "      <td>Sur</td>\n",
       "      <td>1</td>\n",
       "      <td>0</td>\n",
       "      <td>29.0</td>\n",
       "      <td>Caney</td>\n",
       "      <td>309</td>\n",
       "      <td>48,500,000</td>\n",
       "    </tr>\n",
       "  </tbody>\n",
       "</table>\n",
       "</div>"
      ],
      "text/plain": [
       "                                               Vende           Dirección  \\\n",
       "Proyecto                                                                   \n",
       "Ed. Rincón del Bosque                     Inv. CIMAR   AV. 10 N # 51N-36   \n",
       "Vertice Suites - Apartaestudios  C Y C Urbanizadores  Cr. 83E Cl. 48 Bis   \n",
       "Trikala                              Const. Sintagma     Cr. 49 # 14C-15   \n",
       "Edificio Camp. Towers               Hérnandez Bohmer     Cr. 100 Cl. 11A   \n",
       "Vertice Suites - Apartaestudios  C Y C Urbanizadores  Cr. 83E Cl. 48 Bis   \n",
       "\n",
       "                                  Tipo   Zona  Alc. # Gar.  Area  \\\n",
       "Proyecto                                                           \n",
       "Ed. Rincón del Bosque            Apto.  Norte     1      0  20.0   \n",
       "Vertice Suites - Apartaestudios  Apto.    Sur     1      0  28.0   \n",
       "Trikala                          Apto.    Sur     2   2 a1  29.0   \n",
       "Edificio Camp. Towers            Apto.    Sur     1      0  29.0   \n",
       "Vertice Suites - Apartaestudios  Apto.    Sur     1      0  29.0   \n",
       "\n",
       "                                      Sub Zona Piso      Psep13  \n",
       "Proyecto                                                         \n",
       "Ed. Rincón del Bosque                 La Flora  101  28,000,000  \n",
       "Vertice Suites - Apartaestudios          Caney  303  42,500,000  \n",
       "Trikala                                Ingenio  301  41,300,000  \n",
       "Edificio Camp. Towers            Ciudad Jardín    7  53,753,490  \n",
       "Vertice Suites - Apartaestudios          Caney  309  48,500,000  "
      ]
     },
     "execution_count": 22,
     "metadata": {},
     "output_type": "execute_result"
    }
   ],
   "source": [
    "original_data = pd.read_csv(\"./01_apartments_information.csv\", index_col =0)\n",
    "original_data.head()"
   ]
  }
 ],
 "metadata": {
  "kernelspec": {
   "display_name": "Python 3",
   "language": "python",
   "name": "python3"
  },
  "language_info": {
   "codemirror_mode": {
    "name": "ipython",
    "version": 3
   },
   "file_extension": ".py",
   "mimetype": "text/x-python",
   "name": "python",
   "nbconvert_exporter": "python",
   "pygments_lexer": "ipython3",
   "version": "3.7.4"
  }
 },
 "nbformat": 4,
 "nbformat_minor": 2
}
